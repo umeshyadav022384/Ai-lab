{
  "nbformat": 4,
  "nbformat_minor": 0,
  "metadata": {
    "colab": {
      "provenance": [],
      "authorship_tag": "ABX9TyMQQjRaBuZcBh0eEJTXrsOz",
      "include_colab_link": true
    },
    "kernelspec": {
      "name": "python3",
      "display_name": "Python 3"
    },
    "language_info": {
      "name": "python"
    }
  },
  "cells": [
    {
      "cell_type": "markdown",
      "metadata": {
        "id": "view-in-github",
        "colab_type": "text"
      },
      "source": [
        "<a href=\"https://colab.research.google.com/github/umeshyadav022384/Ai-lab/blob/main/Qn9.ipynb\" target=\"_parent\"><img src=\"https://colab.research.google.com/assets/colab-badge.svg\" alt=\"Open In Colab\"/></a>"
      ]
    },
    {
      "cell_type": "code",
      "execution_count": null,
      "metadata": {
        "id": "nrtoRuBUW0cQ"
      },
      "outputs": [],
      "source": [
        "import numpy as np\n",
        "import matplotlib.pyplot as plt\n",
        "\n",
        "# Simulate a simple problem where the \"state\" is just an integer value\n",
        "# and the \"energy\" is a quadratic function (e.g., f(x) = x^2)\n",
        "\n",
        "def energy(x):\n",
        "    \"\"\"Energy function, for example x^2 (a simple cost function).\"\"\"\n",
        "    return x ** 2\n",
        "\n",
        "def annealing_schedule(T0, alpha, t):\n",
        "    \"\"\"Temperature schedule function (T(t) = T0 * alpha^t)\"\"\"\n",
        "    return T0 * (alpha ** t)\n",
        "\n",
        "def probability_acceptance(delta_E, T):\n",
        "    \"\"\"Probability of accepting an inferior solution based on the energy difference and temperature.\"\"\"\n",
        "    return np.exp(-delta_E / T)\n",
        "\n",
        "def simulated_annealing(T0, alpha, num_iterations, initial_state):\n",
        "    current_state = initial_state\n",
        "    current_energy = energy(current_state)\n",
        "\n",
        "    energies = []\n",
        "    acceptances = []\n",
        "\n",
        "    for t in range(num_iterations):\n",
        "        # New candidate solution (for simplicity, choose random step around current state)\n",
        "        candidate_state = current_state + np.random.uniform(-1, 1)\n",
        "        candidate_energy = energy(candidate_state)\n",
        "\n",
        "        # Compute the energy difference\n",
        "        delta_E = candidate_energy - current_energy\n",
        "\n",
        "        # Get the current temperature from the schedule\n",
        "        T = annealing_schedule(T0, alpha, t)\n",
        "\n",
        "        # Calculate the probability of accepting the new candidate solution\n",
        "        if delta_E < 0 or np.random.rand() < probability_acceptance(delta_E, T):\n",
        "            # Accept the new state if it's better or with some probability if worse\n",
        "            current_state = candidate_state\n",
        "            current_energy = candidate_energy\n",
        "            acceptances.append(1)  # Accepted\n",
        "        else:\n",
        "            acceptances.append(0)  # Not accepted\n",
        "\n",
        "        # Record the energy at this iteration\n",
        "        energies.append(current_energy)\n",
        "\n",
        "    return energies, acceptances\n",
        "\n",
        "# Parameters\n",
        "T0 = 10  # Initial temperature\n",
        "alpha = 0.99  # Cooling rate\n",
        "num_iterations = 100  # Number of iterations\n",
        "initial_state = 10  # Start with an initial state of x = 10\n",
        "\n",
        "# Perform simulated annealing\n",
        "energies, acceptances = simulated_annealing(T0, alpha, num_iterations, initial_state)\n",
        "\n",
        "# Plot results\n",
        "plt.figure(figsize=(12, 6))\n",
        "\n",
        "# Plot energy over time\n",
        "plt.subplot(1, 2, 1)\n",
        "plt.plot(energies)\n",
        "plt.title('Energy Over Time')\n",
        "plt.xlabel('Iterations')\n",
        "plt.ylabel('Energy')\n",
        "\n",
        "# Plot acceptance of worse states\n",
        "plt.subplot(1, 2, 2)\n",
        "plt.plot(acceptances)\n",
        "plt.title('Acceptance of Inferior States')\n",
        "plt.xlabel('Iterations')\n",
        "plt.ylabel('Accepted (1 = Yes, 0 = No)')\n",
        "\n",
        "plt.tight_layout()\n",
        "plt.show()\n"
      ]
    }
  ]
}