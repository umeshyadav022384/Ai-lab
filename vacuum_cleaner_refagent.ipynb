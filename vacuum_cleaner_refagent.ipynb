{
  "nbformat": 4,
  "nbformat_minor": 0,
  "metadata": {
    "colab": {
      "provenance": [],
      "authorship_tag": "ABX9TyPSHKjS583I/EjKs6qlxf5t",
      "include_colab_link": true
    },
    "kernelspec": {
      "name": "python3",
      "display_name": "Python 3"
    },
    "language_info": {
      "name": "python"
    }
  },
  "cells": [
    {
      "cell_type": "markdown",
      "metadata": {
        "id": "view-in-github",
        "colab_type": "text"
      },
      "source": [
        "<a href=\"https://colab.research.google.com/github/umeshyadav022384/Ai-lab/blob/main/vacuum_cleaner_refagent.ipynb\" target=\"_parent\"><img src=\"https://colab.research.google.com/assets/colab-badge.svg\" alt=\"Open In Colab\"/></a>"
      ]
    },
    {
      "cell_type": "code",
      "execution_count": 2,
      "metadata": {
        "colab": {
          "base_uri": "https://localhost:8080/"
        },
        "id": "W2CsZF_cOtY5",
        "outputId": "2e45c6ad-a5fc-4f51-b042-35f5a99872d4"
      },
      "outputs": [
        {
          "output_type": "stream",
          "name": "stdout",
          "text": [
            "Step 1:\n",
            "Vacuum at position 0 found no dirt. Moving...\n",
            "Current dirt status: [False, False, True, True, False]\n",
            "\n",
            "Step 2:\n",
            "Vacuum at position 4 found no dirt. Moving...\n",
            "Current dirt status: [False, False, True, True, False]\n",
            "\n",
            "Step 3:\n",
            "Vacuum at position 2 found dirt. Cleaning!\n",
            "Current dirt status: [False, False, False, True, False]\n",
            "\n",
            "Step 4:\n",
            "Vacuum at position 2 found no dirt. Moving...\n",
            "Current dirt status: [False, False, False, True, False]\n",
            "\n",
            "Step 5:\n",
            "Vacuum at position 1 found no dirt. Moving...\n",
            "Current dirt status: [False, False, False, True, False]\n",
            "\n"
          ]
        }
      ],
      "source": [
        "import random\n",
        "\n",
        "# Simple Vacuum Cleaner Reflex Agent (No grid, only agent and environment)\n",
        "class VacuumCleanerAgent:\n",
        "    def __init__(self):\n",
        "        self.position = 0  # Let's assume the vacuum starts at position 0\n",
        "        self.dirt = [random.choice([True, False]) for _ in range(5)]  # 5 positions, True = dirty, False = clean\n",
        "\n",
        "    def clean_room(self):\n",
        "        # Reflex action: Clean if dirty, else move\n",
        "        if self.dirt[self.position]:\n",
        "            print(f\"Vacuum at position {self.position} found dirt. Cleaning!\")\n",
        "            self.dirt[self.position] = False  # Clean the dirt\n",
        "        else:\n",
        "            print(f\"Vacuum at position {self.position} found no dirt. Moving...\")\n",
        "            self.move()\n",
        "\n",
        "    def move(self):\n",
        "        # Move randomly to the next position (between 0 and 4)\n",
        "        new_position = random.choice([i for i in range(5) if i != self.position])  # Avoid moving to the same position\n",
        "        self.position = new_position\n",
        "\n",
        "# Create the vacuum cleaner agent\n",
        "agent = VacuumCleanerAgent()\n",
        "\n",
        "# Run for 5 steps\n",
        "for step in range(5):\n",
        "    print(f\"Step {step + 1}:\")\n",
        "    agent.clean_room()\n",
        "    print(f\"Current dirt status: {agent.dirt}\\n\")\n"
      ]
    }
  ]
}