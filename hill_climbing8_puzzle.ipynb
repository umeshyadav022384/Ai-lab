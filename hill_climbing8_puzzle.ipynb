{
  "nbformat": 4,
  "nbformat_minor": 0,
  "metadata": {
    "colab": {
      "provenance": [],
      "authorship_tag": "ABX9TyObrTMkDSvEVzLwpkNC2QYP",
      "include_colab_link": true
    },
    "kernelspec": {
      "name": "python3",
      "display_name": "Python 3"
    },
    "language_info": {
      "name": "python"
    }
  },
  "cells": [
    {
      "cell_type": "markdown",
      "metadata": {
        "id": "view-in-github",
        "colab_type": "text"
      },
      "source": [
        "<a href=\"https://colab.research.google.com/github/umeshyadav022384/Ai-lab/blob/main/hill_climbing8_puzzle.ipynb\" target=\"_parent\"><img src=\"https://colab.research.google.com/assets/colab-badge.svg\" alt=\"Open In Colab\"/></a>"
      ]
    },
    {
      "cell_type": "code",
      "execution_count": null,
      "metadata": {
        "colab": {
          "base_uri": "https://localhost:8080/"
        },
        "id": "7NrW0cUHVMbH",
        "outputId": "64e06cb8-40ed-414d-d507-cc938f01a16e"
      },
      "outputs": [
        {
          "output_type": "stream",
          "name": "stdout",
          "text": [
            "Initial State: [1, 2, 3, 8, 0, 4, 7, 6, 5]\n",
            "Local maxima reached!\n",
            "Final State: [1, 2, 3, 8, 0, 4, 7, 6, 5]\n"
          ]
        }
      ],
      "source": [
        "import random\n",
        "\n",
        "# Define the goal state\n",
        "goal_state = [1, 2, 3, 8, 0, 4, 7, 6, 5]\n",
        "\n",
        "# Manhattan Distance Heuristic Function\n",
        "def manhattan_distance(state):\n",
        "    distance = 0\n",
        "    for i in range(9):\n",
        "        if state[i] != 0:  # Ignore the empty space (0)\n",
        "            goal_position = goal_state.index(state[i])\n",
        "            current_row, current_col = divmod(i, 3)\n",
        "            goal_row, goal_col = divmod(goal_position, 3)\n",
        "            distance += abs(current_row - goal_row) + abs(current_col - goal_col)\n",
        "    return distance\n",
        "\n",
        "# Generate neighbors by moving the empty space (0) in all possible directions\n",
        "def generate_neighbors(state):\n",
        "    neighbors = []\n",
        "    zero_pos = state.index(0)\n",
        "    row, col = divmod(zero_pos, 3)\n",
        "\n",
        "    # Possible moves: Up, Down, Left, Right\n",
        "    moves = [(-1, 0), (1, 0), (0, -1), (0, 1)]  # (row_offset, col_offset)\n",
        "\n",
        "    for move in moves:\n",
        "        new_row, new_col = row + move[0], col + move[1]\n",
        "\n",
        "        if 0 <= new_row < 3 and 0 <= new_col < 3:  # Check if the move is within bounds\n",
        "            new_pos = new_row * 3 + new_col\n",
        "            # Swap the zero (empty space) with the target position\n",
        "            new_state = state[:]\n",
        "            new_state[zero_pos], new_state[new_pos] = new_state[new_pos], new_state[zero_pos]\n",
        "            neighbors.append(new_state)\n",
        "\n",
        "    return neighbors\n",
        "\n",
        "# Steepest Ascent Hill Climbing Algorithm\n",
        "def steepest_ascent_hill_climbing(initial_state):\n",
        "    current_state = initial_state\n",
        "    current_heuristic = manhattan_distance(current_state)\n",
        "\n",
        "    while True:\n",
        "        neighbors = generate_neighbors(current_state)\n",
        "\n",
        "        # Find the neighbor with the best heuristic (lowest Manhattan distance)\n",
        "        best_neighbor = None\n",
        "        best_heuristic = float('inf')\n",
        "\n",
        "        for neighbor in neighbors:\n",
        "            heuristic_value = manhattan_distance(neighbor)\n",
        "            if heuristic_value < best_heuristic:\n",
        "                best_heuristic = heuristic_value\n",
        "                best_neighbor = neighbor\n",
        "\n",
        "        # If no improvement, we've reached a local maximum, so stop\n",
        "        if best_heuristic >= current_heuristic:\n",
        "            break\n",
        "\n",
        "        # Otherwise, move to the best neighbor\n",
        "        current_state = best_neighbor\n",
        "        current_heuristic = best_heuristic\n",
        "\n",
        "        # If we reach the goal state, stop\n",
        "        if current_state == goal_state:\n",
        "            print(\"Goal reached!\")\n",
        "            return current_state\n",
        "\n",
        "    print(\"Local maxima reached!\")\n",
        "    return current_state\n",
        "\n",
        "# Example usage\n",
        "initial_state = [1, 2, 3, 8, 0, 4, 7, 6, 5]  # This is already the goal state\n",
        "print(\"Initial State:\", initial_state)\n",
        "result = steepest_ascent_hill_climbing(initial_state)\n",
        "print(\"Final State:\", result)\n"
      ]
    }
  ]
}