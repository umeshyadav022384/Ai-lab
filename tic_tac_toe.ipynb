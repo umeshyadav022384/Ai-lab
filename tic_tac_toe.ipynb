{
  "nbformat": 4,
  "nbformat_minor": 0,
  "metadata": {
    "colab": {
      "provenance": [],
      "authorship_tag": "ABX9TyO1DJnpdlhtBHwnronH4dBR",
      "include_colab_link": true
    },
    "kernelspec": {
      "name": "python3",
      "display_name": "Python 3"
    },
    "language_info": {
      "name": "python"
    }
  },
  "cells": [
    {
      "cell_type": "markdown",
      "metadata": {
        "id": "view-in-github",
        "colab_type": "text"
      },
      "source": [
        "<a href=\"https://colab.research.google.com/github/umeshyadav022384/Ai-lab/blob/main/tic_tac_toe.ipynb\" target=\"_parent\"><img src=\"https://colab.research.google.com/assets/colab-badge.svg\" alt=\"Open In Colab\"/></a>"
      ]
    },
    {
      "cell_type": "code",
      "execution_count": null,
      "metadata": {
        "id": "IZRowsa4Zyh6"
      },
      "outputs": [],
      "source": [
        "# Function to print the Tic-Tac-Toe board\n",
        "def print_board(board):\n",
        "    print(\"-------------\")\n",
        "    for row in board:\n",
        "        print(\"|\", \" | \".join(row), \"|\")\n",
        "        print(\"-------------\")\n",
        "\n",
        "# Function to check if there's a winner\n",
        "def check_winner(board, player):\n",
        "    # Check rows, columns, and diagonals\n",
        "    for i in range(3):\n",
        "        if all([cell == player for cell in board[i]]) or all([board[j][i] == player for j in range(3)]):\n",
        "            return True\n",
        "    if board[0][0] == player and board[1][1] == player and board[2][2] == player:\n",
        "        return True\n",
        "    if board[0][2] == player and board[1][1] == player and board[2][0] == player:\n",
        "        return True\n",
        "    return False\n",
        "\n",
        "# Function to check if the board is full (draw condition)\n",
        "def is_board_full(board):\n",
        "    return all([cell != \" \" for row in board for cell in row])\n",
        "\n",
        "# Main function for the game\n",
        "def play_game():\n",
        "    # Initialize the board as a 3x3 grid with spaces\n",
        "    board = [[\" \" for _ in range(3)] for _ in range(3)]\n",
        "    current_player = \"X\"  # X starts first\n",
        "\n",
        "    while True:\n",
        "        print_board(board)\n",
        "        row = int(input(f\"Player {current_player}, enter the row (0-2): \"))\n",
        "       1\n",
        "        col = int(input(f\"Player {current_player}, enter the column (0-2): \"))\n",
        "\n",
        "        # Check if the chosen position is valid\n",
        "        if row < 0 or row > 2 or col < 0 or col > 2 or board[row][col] != \" \":\n",
        "            print(\"Invalid move, try again.\")\n",
        "            continue\n",
        "\n",
        "        # Place the player's mark\n",
        "        board[row][col] = current_player\n",
        "\n",
        "        # Check for a winner\n",
        "        if check_winner(board, current_player):\n",
        "            print_board(board)\n",
        "            print(f\"Player {current_player} wins!\")\n",
        "            break\n",
        "\n",
        "        # Check for a draw\n",
        "        if is_board_full(board):\n",
        "            print_board(board)\n",
        "            print(\"It's a draw!\")\n",
        "            break\n",
        "\n",
        "        # Switch player\n",
        "        current_player = \"O\" if current_player == \"X\" else \"X\"\n",
        "\n",
        "# Start the game\n",
        "if __name__ == \"__main__\":\n",
        "    play_game()\n"
      ]
    }
  ]
}