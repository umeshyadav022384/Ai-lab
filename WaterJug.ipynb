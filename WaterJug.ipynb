{
  "nbformat": 4,
  "nbformat_minor": 0,
  "metadata": {
    "colab": {
      "provenance": [],
      "include_colab_link": true
    },
    "kernelspec": {
      "name": "python3",
      "display_name": "Python 3"
    },
    "language_info": {
      "name": "python"
    }
  },
  "cells": [
    {
      "cell_type": "markdown",
      "metadata": {
        "id": "view-in-github",
        "colab_type": "text"
      },
      "source": [
        "<a href=\"https://colab.research.google.com/github/umeshyadav022384/Ai-lab/blob/main/WaterJug.ipynb\" target=\"_parent\"><img src=\"https://colab.research.google.com/assets/colab-badge.svg\" alt=\"Open In Colab\"/></a>"
      ]
    },
    {
      "cell_type": "code",
      "execution_count": null,
      "metadata": {
        "id": "K17SDd2qftoB"
      },
      "outputs": [],
      "source": [
        "from collections import deque\n",
        "\n",
        "# Define the possible actions (state transitions)\n",
        "def successors(state):\n",
        "    X, Y = state\n",
        "    succ = []\n",
        "\n",
        "    # Action 1: Fill Jug X\n",
        "    if X < 4:\n",
        "        succ.append((4, Y))\n",
        "\n",
        "    # Action 2: Fill Jug Y\n",
        "    if Y < 3:\n",
        "        succ.append((X, 3))\n",
        "\n",
        "    # Action 3: Empty Jug X\n",
        "    if X > 0:\n",
        "        succ.append((0, Y))\n",
        "\n",
        "    # Action 4: Empty Jug Y\n",
        "    if Y > 0:\n",
        "        succ.append((X, 0))\n",
        "\n",
        "    # Action 5: Pour from X to Y\n",
        "    if X > 0 and Y < 3:\n",
        "        transfer = min(X, 3 - Y)\n",
        "        succ.append((X - transfer, Y + transfer))\n",
        "\n",
        "    # Action 6: Pour from Y to X\n",
        "    if Y > 0 and X < 4:\n",
        "        transfer = min(Y, 4 - X)\n",
        "        succ.append((X + transfer, Y - transfer))\n",
        "\n",
        "    return succ\n",
        "\n",
        "# BFS algorithm\n",
        "def bfs(initial_state, goal_state):\n",
        "    OPEN = deque([initial_state])  # Queue of states to explore\n",
        "    CLOSED = set()  # Set of explored states\n",
        "    parent_map = {initial_state: None}  # To reconstruct the path\n",
        "\n",
        "    while OPEN:\n",
        "        # Step 1: Pop from OPEN and add it to CLOSED\n",
        "        current_state = OPEN.popleft()\n",
        "        CLOSED.add(current_state)\n",
        "\n",
        "        # Step 2: Goal test\n",
        "        if current_state == goal_state:\n",
        "            # Goal found, reconstruct path\n",
        "            path = []\n",
        "            while current_state is not None:\n",
        "                path.append(current_state)\n",
        "                current_state = parent_map[current_state]\n",
        "            return path[::-1]  # Return reversed path\n",
        "\n",
        "        # Step 3: Generate successors and add to OPEN if not in OPEN or CLOSED\n",
        "        for succ in successors(current_state):\n",
        "            if succ not in CLOSED and succ not in OPEN:\n",
        "                OPEN.append(succ)\n",
        "                parent_map[succ] = current_state\n",
        "\n",
        "    # Step 5: Return None if goal is not found\n",
        "    return None\n",
        "\n",
        "# Define the initial and goal states\n",
        "initial_state = (0, 0)  # Initial state: (0, 0)\n",
        "goal_state = (2, 0)  # Goal state: (2, 0)\n",
        "\n",
        "# Run BFS to find the solution\n",
        "solution = bfs(initial_state, goal_state)\n",
        "\n",
        "# Output the solution\n",
        "if solution:\n",
        "    print(\"Solution path:\")\n",
        "    for step in solution:\n",
        "        print(step)\n",
        "else:\n",
        "    print(\"No solution found\")\n"
      ]
    }
  ]
}