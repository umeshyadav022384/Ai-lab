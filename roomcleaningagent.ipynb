{
  "nbformat": 4,
  "nbformat_minor": 0,
  "metadata": {
    "colab": {
      "provenance": [],
      "authorship_tag": "ABX9TyPBQz08Q/BGggz7qzloN1Vk",
      "include_colab_link": true
    },
    "kernelspec": {
      "name": "python3",
      "display_name": "Python 3"
    },
    "language_info": {
      "name": "python"
    }
  },
  "cells": [
    {
      "cell_type": "markdown",
      "metadata": {
        "id": "view-in-github",
        "colab_type": "text"
      },
      "source": [
        "<a href=\"https://colab.research.google.com/github/umeshyadav022384/Ai-lab/blob/main/roomcleaningagent.ipynb\" target=\"_parent\"><img src=\"https://colab.research.google.com/assets/colab-badge.svg\" alt=\"Open In Colab\"/></a>"
      ]
    },
    {
      "cell_type": "code",
      "execution_count": null,
      "metadata": {
        "id": "XR3-5FXsQ_L1",
        "colab": {
          "base_uri": "https://localhost:8080/"
        },
        "outputId": "54537c8b-39bf-466f-c8c9-7c243fc5b0d6"
      },
      "outputs": [
        {
          "output_type": "stream",
          "name": "stdout",
          "text": [
            "initial room status\n",
            "0 1 0 0 1 0 1 1 1 0 \n",
            "\n",
            "1 1 1 0 0 1 0 1 0 1 \n",
            "\n",
            "1 1 0 1 1 0 1 0 0 1 \n",
            "\n",
            "1 0 1 0 0 1 1 1 1 1 \n",
            "\n",
            "0 0 0 0 0 1 0 1 1 1 \n",
            "\n",
            "0 0 0 1 0 1 1 0 1 1 \n",
            "\n",
            "0 0 0 1 1 1 1 0 0 1 \n",
            "\n",
            "0 1 0 0 1 1 0 0 1 1 \n",
            "\n",
            "0 0 1 1 0 0 1 1 1 1 \n",
            "\n",
            "1 1 0 0 1 1 1 1 1 1 \n",
            "\n"
          ]
        }
      ],
      "source": [
        "import random\n",
        "class Roomcleaneragent:\n",
        "  def __init__(self,room_size=(10,10)):\n",
        "    self.room_size=room_size\n",
        "    self.grid=[[random.choice([0,1]) for _ in range(room_size[1])] for _ in range(room_size[0])]\n",
        "    self.current_position=(random.randint(0,room_size[0]-1),random.randint(0,room_size[1]-1))\n",
        "\n",
        "  def display_room(self):\n",
        "    for row in self.grid:\n",
        "      for cell in row:\n",
        "        print(str(cell),end=\" \")\n",
        "      print(\"\\n\")\n",
        "\n",
        "  def run(self):\n",
        "      print(\"initial room status\")\n",
        "      self.display_room()\n",
        "\n",
        "agent = Roomcleaneragent()\n",
        "agent.run()"
      ]
    }
  ]
}